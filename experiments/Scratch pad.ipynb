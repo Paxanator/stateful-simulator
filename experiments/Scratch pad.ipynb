{
 "cells": [
  {
   "cell_type": "code",
   "execution_count": 115,
   "metadata": {},
   "outputs": [],
   "source": [
    "import pandas as pd\n",
    "import os\n",
    "%matplotlib inline"
   ]
  },
  {
   "cell_type": "code",
   "execution_count": 116,
   "metadata": {},
   "outputs": [],
   "source": [
    "experiment_dir = \"odsc_west_2018_20181028-190440/\"\n",
    "make_path = lambda x: os.path.join(experiment_dir,x)"
   ]
  },
  {
   "cell_type": "code",
   "execution_count": 117,
   "metadata": {},
   "outputs": [],
   "source": [
    "lookback = pd.read_csv(make_path(\"lookback.csv\"))"
   ]
  },
  {
   "cell_type": "code",
   "execution_count": 118,
   "metadata": {},
   "outputs": [
    {
     "data": {
      "text/html": [
       "<div>\n",
       "<style scoped>\n",
       "    .dataframe tbody tr th:only-of-type {\n",
       "        vertical-align: middle;\n",
       "    }\n",
       "\n",
       "    .dataframe tbody tr th {\n",
       "        vertical-align: top;\n",
       "    }\n",
       "\n",
       "    .dataframe thead th {\n",
       "        text-align: right;\n",
       "    }\n",
       "</style>\n",
       "<table border=\"1\" class=\"dataframe\">\n",
       "  <thead>\n",
       "    <tr style=\"text-align: right;\">\n",
       "      <th></th>\n",
       "      <th>average_delay</th>\n",
       "      <th>average_expected_number_obs</th>\n",
       "      <th>average_num_obs_difference</th>\n",
       "      <th>delay_intensity_s</th>\n",
       "      <th>delay_type</th>\n",
       "      <th>frequency_s</th>\n",
       "      <th>frequency_type</th>\n",
       "      <th>lookback_s</th>\n",
       "      <th>max_delay</th>\n",
       "      <th>max_num_obs_difference</th>\n",
       "      <th>percent_points_missed</th>\n",
       "      <th>periodicity_s</th>\n",
       "      <th>rmse_delay</th>\n",
       "      <th>rmse_difference</th>\n",
       "      <th>rmse_no_delay</th>\n",
       "      <th>sensitive</th>\n",
       "    </tr>\n",
       "  </thead>\n",
       "  <tbody>\n",
       "    <tr>\n",
       "      <th>0</th>\n",
       "      <td>10.076852</td>\n",
       "      <td>2.090</td>\n",
       "      <td>0.264</td>\n",
       "      <td>10</td>\n",
       "      <td>ExponentialDelayer</td>\n",
       "      <td>0.1</td>\n",
       "      <td>PoissonProcess</td>\n",
       "      <td>1</td>\n",
       "      <td>86.244744</td>\n",
       "      <td>2</td>\n",
       "      <td>12.631579</td>\n",
       "      <td>10.0</td>\n",
       "      <td>2.620637</td>\n",
       "      <td>2.343254</td>\n",
       "      <td>0.277383</td>\n",
       "      <td>False</td>\n",
       "    </tr>\n",
       "    <tr>\n",
       "      <th>1</th>\n",
       "      <td>10.319904</td>\n",
       "      <td>2.226</td>\n",
       "      <td>0.322</td>\n",
       "      <td>10</td>\n",
       "      <td>ExponentialDelayer</td>\n",
       "      <td>0.1</td>\n",
       "      <td>PoissonProcess</td>\n",
       "      <td>2</td>\n",
       "      <td>51.851904</td>\n",
       "      <td>2</td>\n",
       "      <td>14.465409</td>\n",
       "      <td>10.0</td>\n",
       "      <td>2.629602</td>\n",
       "      <td>2.341446</td>\n",
       "      <td>0.288156</td>\n",
       "      <td>False</td>\n",
       "    </tr>\n",
       "    <tr>\n",
       "      <th>2</th>\n",
       "      <td>9.986668</td>\n",
       "      <td>2.504</td>\n",
       "      <td>0.352</td>\n",
       "      <td>10</td>\n",
       "      <td>ExponentialDelayer</td>\n",
       "      <td>0.1</td>\n",
       "      <td>PoissonProcess</td>\n",
       "      <td>5</td>\n",
       "      <td>98.115993</td>\n",
       "      <td>4</td>\n",
       "      <td>14.057508</td>\n",
       "      <td>10.0</td>\n",
       "      <td>2.389190</td>\n",
       "      <td>2.093556</td>\n",
       "      <td>0.295634</td>\n",
       "      <td>False</td>\n",
       "    </tr>\n",
       "    <tr>\n",
       "      <th>3</th>\n",
       "      <td>10.272929</td>\n",
       "      <td>3.092</td>\n",
       "      <td>0.452</td>\n",
       "      <td>10</td>\n",
       "      <td>ExponentialDelayer</td>\n",
       "      <td>0.1</td>\n",
       "      <td>PoissonProcess</td>\n",
       "      <td>10</td>\n",
       "      <td>63.985116</td>\n",
       "      <td>3</td>\n",
       "      <td>14.618370</td>\n",
       "      <td>10.0</td>\n",
       "      <td>2.274898</td>\n",
       "      <td>1.983109</td>\n",
       "      <td>0.291789</td>\n",
       "      <td>False</td>\n",
       "    </tr>\n",
       "    <tr>\n",
       "      <th>4</th>\n",
       "      <td>9.962598</td>\n",
       "      <td>3.898</td>\n",
       "      <td>0.424</td>\n",
       "      <td>10</td>\n",
       "      <td>ExponentialDelayer</td>\n",
       "      <td>0.1</td>\n",
       "      <td>PoissonProcess</td>\n",
       "      <td>20</td>\n",
       "      <td>58.718486</td>\n",
       "      <td>3</td>\n",
       "      <td>10.877373</td>\n",
       "      <td>10.0</td>\n",
       "      <td>1.570808</td>\n",
       "      <td>1.279051</td>\n",
       "      <td>0.291758</td>\n",
       "      <td>False</td>\n",
       "    </tr>\n",
       "    <tr>\n",
       "      <th>5</th>\n",
       "      <td>10.507821</td>\n",
       "      <td>4.884</td>\n",
       "      <td>0.526</td>\n",
       "      <td>10</td>\n",
       "      <td>ExponentialDelayer</td>\n",
       "      <td>0.1</td>\n",
       "      <td>PoissonProcess</td>\n",
       "      <td>30</td>\n",
       "      <td>86.872217</td>\n",
       "      <td>4</td>\n",
       "      <td>10.769861</td>\n",
       "      <td>10.0</td>\n",
       "      <td>1.000153</td>\n",
       "      <td>0.712109</td>\n",
       "      <td>0.288044</td>\n",
       "      <td>False</td>\n",
       "    </tr>\n",
       "    <tr>\n",
       "      <th>6</th>\n",
       "      <td>9.597094</td>\n",
       "      <td>8.256</td>\n",
       "      <td>0.488</td>\n",
       "      <td>10</td>\n",
       "      <td>ExponentialDelayer</td>\n",
       "      <td>0.1</td>\n",
       "      <td>PoissonProcess</td>\n",
       "      <td>60</td>\n",
       "      <td>56.995953</td>\n",
       "      <td>4</td>\n",
       "      <td>5.910853</td>\n",
       "      <td>10.0</td>\n",
       "      <td>0.757928</td>\n",
       "      <td>0.469173</td>\n",
       "      <td>0.288755</td>\n",
       "      <td>False</td>\n",
       "    </tr>\n",
       "    <tr>\n",
       "      <th>7</th>\n",
       "      <td>8.953382</td>\n",
       "      <td>14.178</td>\n",
       "      <td>0.442</td>\n",
       "      <td>10</td>\n",
       "      <td>ExponentialDelayer</td>\n",
       "      <td>0.1</td>\n",
       "      <td>PoissonProcess</td>\n",
       "      <td>120</td>\n",
       "      <td>55.116452</td>\n",
       "      <td>4</td>\n",
       "      <td>3.117506</td>\n",
       "      <td>10.0</td>\n",
       "      <td>0.421461</td>\n",
       "      <td>0.127362</td>\n",
       "      <td>0.294099</td>\n",
       "      <td>False</td>\n",
       "    </tr>\n",
       "    <tr>\n",
       "      <th>8</th>\n",
       "      <td>11.005456</td>\n",
       "      <td>35.386</td>\n",
       "      <td>0.612</td>\n",
       "      <td>10</td>\n",
       "      <td>ExponentialDelayer</td>\n",
       "      <td>0.1</td>\n",
       "      <td>PoissonProcess</td>\n",
       "      <td>300</td>\n",
       "      <td>57.927583</td>\n",
       "      <td>4</td>\n",
       "      <td>1.729498</td>\n",
       "      <td>10.0</td>\n",
       "      <td>0.343078</td>\n",
       "      <td>0.048038</td>\n",
       "      <td>0.295041</td>\n",
       "      <td>False</td>\n",
       "    </tr>\n",
       "    <tr>\n",
       "      <th>9</th>\n",
       "      <td>9.891699</td>\n",
       "      <td>63.794</td>\n",
       "      <td>0.518</td>\n",
       "      <td>10</td>\n",
       "      <td>ExponentialDelayer</td>\n",
       "      <td>0.1</td>\n",
       "      <td>PoissonProcess</td>\n",
       "      <td>600</td>\n",
       "      <td>68.608006</td>\n",
       "      <td>4</td>\n",
       "      <td>0.811989</td>\n",
       "      <td>10.0</td>\n",
       "      <td>0.311549</td>\n",
       "      <td>0.005342</td>\n",
       "      <td>0.306207</td>\n",
       "      <td>False</td>\n",
       "    </tr>\n",
       "    <tr>\n",
       "      <th>10</th>\n",
       "      <td>10.208018</td>\n",
       "      <td>119.824</td>\n",
       "      <td>0.418</td>\n",
       "      <td>10</td>\n",
       "      <td>ExponentialDelayer</td>\n",
       "      <td>0.1</td>\n",
       "      <td>PoissonProcess</td>\n",
       "      <td>1200</td>\n",
       "      <td>72.190458</td>\n",
       "      <td>3</td>\n",
       "      <td>0.348845</td>\n",
       "      <td>10.0</td>\n",
       "      <td>0.299883</td>\n",
       "      <td>0.002208</td>\n",
       "      <td>0.297675</td>\n",
       "      <td>False</td>\n",
       "    </tr>\n",
       "  </tbody>\n",
       "</table>\n",
       "</div>"
      ],
      "text/plain": [
       "    average_delay  average_expected_number_obs  average_num_obs_difference  \\\n",
       "0       10.076852                        2.090                       0.264   \n",
       "1       10.319904                        2.226                       0.322   \n",
       "2        9.986668                        2.504                       0.352   \n",
       "3       10.272929                        3.092                       0.452   \n",
       "4        9.962598                        3.898                       0.424   \n",
       "5       10.507821                        4.884                       0.526   \n",
       "6        9.597094                        8.256                       0.488   \n",
       "7        8.953382                       14.178                       0.442   \n",
       "8       11.005456                       35.386                       0.612   \n",
       "9        9.891699                       63.794                       0.518   \n",
       "10      10.208018                      119.824                       0.418   \n",
       "\n",
       "    delay_intensity_s          delay_type  frequency_s  frequency_type  \\\n",
       "0                  10  ExponentialDelayer          0.1  PoissonProcess   \n",
       "1                  10  ExponentialDelayer          0.1  PoissonProcess   \n",
       "2                  10  ExponentialDelayer          0.1  PoissonProcess   \n",
       "3                  10  ExponentialDelayer          0.1  PoissonProcess   \n",
       "4                  10  ExponentialDelayer          0.1  PoissonProcess   \n",
       "5                  10  ExponentialDelayer          0.1  PoissonProcess   \n",
       "6                  10  ExponentialDelayer          0.1  PoissonProcess   \n",
       "7                  10  ExponentialDelayer          0.1  PoissonProcess   \n",
       "8                  10  ExponentialDelayer          0.1  PoissonProcess   \n",
       "9                  10  ExponentialDelayer          0.1  PoissonProcess   \n",
       "10                 10  ExponentialDelayer          0.1  PoissonProcess   \n",
       "\n",
       "    lookback_s  max_delay  max_num_obs_difference  percent_points_missed  \\\n",
       "0            1  86.244744                       2              12.631579   \n",
       "1            2  51.851904                       2              14.465409   \n",
       "2            5  98.115993                       4              14.057508   \n",
       "3           10  63.985116                       3              14.618370   \n",
       "4           20  58.718486                       3              10.877373   \n",
       "5           30  86.872217                       4              10.769861   \n",
       "6           60  56.995953                       4               5.910853   \n",
       "7          120  55.116452                       4               3.117506   \n",
       "8          300  57.927583                       4               1.729498   \n",
       "9          600  68.608006                       4               0.811989   \n",
       "10        1200  72.190458                       3               0.348845   \n",
       "\n",
       "    periodicity_s  rmse_delay  rmse_difference  rmse_no_delay  sensitive  \n",
       "0            10.0    2.620637         2.343254       0.277383      False  \n",
       "1            10.0    2.629602         2.341446       0.288156      False  \n",
       "2            10.0    2.389190         2.093556       0.295634      False  \n",
       "3            10.0    2.274898         1.983109       0.291789      False  \n",
       "4            10.0    1.570808         1.279051       0.291758      False  \n",
       "5            10.0    1.000153         0.712109       0.288044      False  \n",
       "6            10.0    0.757928         0.469173       0.288755      False  \n",
       "7            10.0    0.421461         0.127362       0.294099      False  \n",
       "8            10.0    0.343078         0.048038       0.295041      False  \n",
       "9            10.0    0.311549         0.005342       0.306207      False  \n",
       "10           10.0    0.299883         0.002208       0.297675      False  "
      ]
     },
     "execution_count": 118,
     "metadata": {},
     "output_type": "execute_result"
    }
   ],
   "source": [
    "lookback"
   ]
  },
  {
   "cell_type": "code",
   "execution_count": 119,
   "metadata": {},
   "outputs": [
    {
     "data": {
      "text/plain": [
       "Text(0.5, 0, 'Lookback (sec)')"
      ]
     },
     "execution_count": 119,
     "metadata": {},
     "output_type": "execute_result"
    },
    {
     "data": {
      "image/png": "[encoded data removed]",
      "text/plain": [
       "<Figure size 432x288 with 1 Axes>"
      ]
     },
     "metadata": {
      "needs_background": "light"
     },
     "output_type": "display_data"
    }
   ],
   "source": [
    "plt = lookback.plot(x = \"lookback_s\", title=\"RMSE at Various Lookbacks\",y=[\"rmse_delay\",\"rmse_no_delay\"])\n",
    "plt.set_ylabel(\"Root Mean Square Error\")\n",
    "plt.set_xlabel(\"Lookback (sec)\")"
   ]
  },
  {
   "cell_type": "code",
   "execution_count": 120,
   "metadata": {},
   "outputs": [],
   "source": [
    "sensitivities = pd.read_csv(make_path(\"sensitivities.csv\"))"
   ]
  },
  {
   "cell_type": "code",
   "execution_count": 121,
   "metadata": {},
   "outputs": [
    {
     "data": {
      "text/plain": [
       "Text(0.5, 0, 'Model Sensitivity')"
      ]
     },
     "execution_count": 121,
     "metadata": {},
     "output_type": "execute_result"
    },
    {
     "data": {
      "image/png": "[encoded data removed]",
      "text/plain": [
       "<Figure size 432x288 with 1 Axes>"
      ]
     },
     "metadata": {
      "needs_background": "light"
     },
     "output_type": "display_data"
    }
   ],
   "source": [
    "plt = sensitivities.boxplot(by = \"sensitive\", column = \"rmse_difference\")\n",
    "plt.set_title(\"Difference Between Sensitive and Insenstive Models\\n\\n\")\n",
    "plt.set_ylabel(\"Difference in RMSE \\n b/w delay and no delay\")\n",
    "plt.set_xlabel(\"Model Sensitivity\")"
   ]
  },
  {
   "cell_type": "code",
   "execution_count": 122,
   "metadata": {},
   "outputs": [],
   "source": [
    "delays = pd.read_csv(make_path(\"delay.csv\"))"
   ]
  },
  {
   "cell_type": "code",
   "execution_count": 123,
   "metadata": {},
   "outputs": [
    {
     "data": {
      "text/plain": [
       "Text(0, 0.5, 'RMSE')"
      ]
     },
     "execution_count": 123,
     "metadata": {},
     "output_type": "execute_result"
    },
    {
     "data": {
      "image/png": "[encoded data removed]",
      "text/plain": [
       "<Figure size 432x288 with 1 Axes>"
      ]
     },
     "metadata": {
      "needs_background": "light"
     },
     "output_type": "display_data"
    }
   ],
   "source": [
    "plt = delays.plot(x = \"delay_intensity_s\", y=[\"rmse_delay\",\"rmse_no_delay\"],title = \"RMSE at Various Delays\")\n",
    "plt.set_xlabel(xlabel=\"Average Delay (sec)\")\n",
    "plt.set_ylabel(ylabel=\"RMSE\")"
   ]
  },
  {
   "cell_type": "code",
   "execution_count": 124,
   "metadata": {},
   "outputs": [],
   "source": [
    "frequencies = pd.read_csv(make_path(\"frequencies.csv\"))"
   ]
  },
  {
   "cell_type": "code",
   "execution_count": 125,
   "metadata": {},
   "outputs": [
    {
     "data": {
      "text/plain": [
       "Text(0, 0.5, 'RMSE')"
      ]
     },
     "execution_count": 125,
     "metadata": {},
     "output_type": "execute_result"
    },
    {
     "data": {
      "image/png": "[encoded data removed]",
      "text/plain": [
       "<Figure size 432x288 with 1 Axes>"
      ]
     },
     "metadata": {
      "needs_background": "light"
     },
     "output_type": "display_data"
    }
   ],
   "source": [
    "plt = frequencies.plot(x = \"periodicity_s\", y=['rmse_delay','rmse_no_delay'],title = \"RMSE at Difference Data Source Frequencies\")\n",
    "plt.set_xlabel(\"Average Time Between Points (sec)\")\n",
    "plt.set_ylabel(\"RMSE\")"
   ]
  },
  {
   "cell_type": "code",
   "execution_count": 126,
   "metadata": {},
   "outputs": [
    {
     "data": {
      "text/html": [
       "<div>\n",
       "<style scoped>\n",
       "    .dataframe tbody tr th:only-of-type {\n",
       "        vertical-align: middle;\n",
       "    }\n",
       "\n",
       "    .dataframe tbody tr th {\n",
       "        vertical-align: top;\n",
       "    }\n",
       "\n",
       "    .dataframe thead th {\n",
       "        text-align: right;\n",
       "    }\n",
       "</style>\n",
       "<table border=\"1\" class=\"dataframe\">\n",
       "  <thead>\n",
       "    <tr style=\"text-align: right;\">\n",
       "      <th></th>\n",
       "      <th>average_delay</th>\n",
       "      <th>average_expected_number_obs</th>\n",
       "      <th>average_num_obs_difference</th>\n",
       "      <th>delay_intensity_s</th>\n",
       "      <th>delay_type</th>\n",
       "      <th>frequency_s</th>\n",
       "      <th>frequency_type</th>\n",
       "      <th>lookback_s</th>\n",
       "      <th>max_delay</th>\n",
       "      <th>max_num_obs_difference</th>\n",
       "      <th>percent_points_missed</th>\n",
       "      <th>periodicity_s</th>\n",
       "      <th>rmse_delay</th>\n",
       "      <th>rmse_difference</th>\n",
       "      <th>rmse_no_delay</th>\n",
       "      <th>sensitive</th>\n",
       "    </tr>\n",
       "  </thead>\n",
       "  <tbody>\n",
       "    <tr>\n",
       "      <th>0</th>\n",
       "      <td>10.048460</td>\n",
       "      <td>101.908</td>\n",
       "      <td>5.128</td>\n",
       "      <td>10</td>\n",
       "      <td>ExponentialDelayer</td>\n",
       "      <td>1.000000</td>\n",
       "      <td>PoissonProcess</td>\n",
       "      <td>100</td>\n",
       "      <td>73.647327</td>\n",
       "      <td>18</td>\n",
       "      <td>5.031990</td>\n",
       "      <td>1.0</td>\n",
       "      <td>0.356257</td>\n",
       "      <td>0.057341</td>\n",
       "      <td>0.298916</td>\n",
       "      <td>False</td>\n",
       "    </tr>\n",
       "    <tr>\n",
       "      <th>1</th>\n",
       "      <td>9.353755</td>\n",
       "      <td>54.718</td>\n",
       "      <td>2.602</td>\n",
       "      <td>10</td>\n",
       "      <td>ExponentialDelayer</td>\n",
       "      <td>0.500000</td>\n",
       "      <td>PoissonProcess</td>\n",
       "      <td>100</td>\n",
       "      <td>57.138335</td>\n",
       "      <td>9</td>\n",
       "      <td>4.755291</td>\n",
       "      <td>2.0</td>\n",
       "      <td>0.391032</td>\n",
       "      <td>0.102815</td>\n",
       "      <td>0.288217</td>\n",
       "      <td>False</td>\n",
       "    </tr>\n",
       "    <tr>\n",
       "      <th>2</th>\n",
       "      <td>10.407210</td>\n",
       "      <td>22.778</td>\n",
       "      <td>1.068</td>\n",
       "      <td>10</td>\n",
       "      <td>ExponentialDelayer</td>\n",
       "      <td>0.200000</td>\n",
       "      <td>PoissonProcess</td>\n",
       "      <td>100</td>\n",
       "      <td>86.468315</td>\n",
       "      <td>7</td>\n",
       "      <td>4.688735</td>\n",
       "      <td>5.0</td>\n",
       "      <td>0.447540</td>\n",
       "      <td>0.161525</td>\n",
       "      <td>0.286015</td>\n",
       "      <td>False</td>\n",
       "    </tr>\n",
       "    <tr>\n",
       "      <th>3</th>\n",
       "      <td>11.075774</td>\n",
       "      <td>12.110</td>\n",
       "      <td>0.560</td>\n",
       "      <td>10</td>\n",
       "      <td>ExponentialDelayer</td>\n",
       "      <td>0.100000</td>\n",
       "      <td>PoissonProcess</td>\n",
       "      <td>100</td>\n",
       "      <td>68.091724</td>\n",
       "      <td>4</td>\n",
       "      <td>4.624277</td>\n",
       "      <td>10.0</td>\n",
       "      <td>0.618611</td>\n",
       "      <td>0.333831</td>\n",
       "      <td>0.284781</td>\n",
       "      <td>False</td>\n",
       "    </tr>\n",
       "    <tr>\n",
       "      <th>4</th>\n",
       "      <td>10.362333</td>\n",
       "      <td>6.892</td>\n",
       "      <td>0.218</td>\n",
       "      <td>10</td>\n",
       "      <td>ExponentialDelayer</td>\n",
       "      <td>0.050000</td>\n",
       "      <td>PoissonProcess</td>\n",
       "      <td>100</td>\n",
       "      <td>75.001726</td>\n",
       "      <td>4</td>\n",
       "      <td>3.163088</td>\n",
       "      <td>20.0</td>\n",
       "      <td>0.690124</td>\n",
       "      <td>0.395315</td>\n",
       "      <td>0.294809</td>\n",
       "      <td>False</td>\n",
       "    </tr>\n",
       "    <tr>\n",
       "      <th>5</th>\n",
       "      <td>10.652179</td>\n",
       "      <td>5.078</td>\n",
       "      <td>0.204</td>\n",
       "      <td>10</td>\n",
       "      <td>ExponentialDelayer</td>\n",
       "      <td>0.033333</td>\n",
       "      <td>PoissonProcess</td>\n",
       "      <td>100</td>\n",
       "      <td>71.872692</td>\n",
       "      <td>3</td>\n",
       "      <td>4.017330</td>\n",
       "      <td>30.0</td>\n",
       "      <td>0.873085</td>\n",
       "      <td>0.573132</td>\n",
       "      <td>0.299953</td>\n",
       "      <td>False</td>\n",
       "    </tr>\n",
       "    <tr>\n",
       "      <th>6</th>\n",
       "      <td>10.154315</td>\n",
       "      <td>3.746</td>\n",
       "      <td>0.092</td>\n",
       "      <td>10</td>\n",
       "      <td>ExponentialDelayer</td>\n",
       "      <td>0.016667</td>\n",
       "      <td>PoissonProcess</td>\n",
       "      <td>100</td>\n",
       "      <td>48.682347</td>\n",
       "      <td>2</td>\n",
       "      <td>2.455953</td>\n",
       "      <td>60.0</td>\n",
       "      <td>0.678163</td>\n",
       "      <td>0.384418</td>\n",
       "      <td>0.293745</td>\n",
       "      <td>False</td>\n",
       "    </tr>\n",
       "    <tr>\n",
       "      <th>7</th>\n",
       "      <td>10.646266</td>\n",
       "      <td>2.848</td>\n",
       "      <td>0.038</td>\n",
       "      <td>10</td>\n",
       "      <td>ExponentialDelayer</td>\n",
       "      <td>0.008333</td>\n",
       "      <td>PoissonProcess</td>\n",
       "      <td>100</td>\n",
       "      <td>64.106221</td>\n",
       "      <td>2</td>\n",
       "      <td>1.334270</td>\n",
       "      <td>120.0</td>\n",
       "      <td>0.603532</td>\n",
       "      <td>0.312306</td>\n",
       "      <td>0.291226</td>\n",
       "      <td>False</td>\n",
       "    </tr>\n",
       "    <tr>\n",
       "      <th>8</th>\n",
       "      <td>10.222864</td>\n",
       "      <td>2.300</td>\n",
       "      <td>0.010</td>\n",
       "      <td>10</td>\n",
       "      <td>ExponentialDelayer</td>\n",
       "      <td>0.003333</td>\n",
       "      <td>PoissonProcess</td>\n",
       "      <td>100</td>\n",
       "      <td>54.474338</td>\n",
       "      <td>1</td>\n",
       "      <td>0.434783</td>\n",
       "      <td>300.0</td>\n",
       "      <td>0.541278</td>\n",
       "      <td>0.243953</td>\n",
       "      <td>0.297325</td>\n",
       "      <td>False</td>\n",
       "    </tr>\n",
       "    <tr>\n",
       "      <th>9</th>\n",
       "      <td>9.919129</td>\n",
       "      <td>2.154</td>\n",
       "      <td>0.004</td>\n",
       "      <td>10</td>\n",
       "      <td>ExponentialDelayer</td>\n",
       "      <td>0.001667</td>\n",
       "      <td>PoissonProcess</td>\n",
       "      <td>100</td>\n",
       "      <td>49.316746</td>\n",
       "      <td>1</td>\n",
       "      <td>0.185701</td>\n",
       "      <td>600.0</td>\n",
       "      <td>0.493624</td>\n",
       "      <td>0.200000</td>\n",
       "      <td>0.293624</td>\n",
       "      <td>False</td>\n",
       "    </tr>\n",
       "    <tr>\n",
       "      <th>10</th>\n",
       "      <td>10.549967</td>\n",
       "      <td>2.088</td>\n",
       "      <td>0.012</td>\n",
       "      <td>10</td>\n",
       "      <td>ExponentialDelayer</td>\n",
       "      <td>0.000833</td>\n",
       "      <td>PoissonProcess</td>\n",
       "      <td>100</td>\n",
       "      <td>56.132949</td>\n",
       "      <td>1</td>\n",
       "      <td>0.574713</td>\n",
       "      <td>1200.0</td>\n",
       "      <td>0.457798</td>\n",
       "      <td>0.160322</td>\n",
       "      <td>0.297476</td>\n",
       "      <td>False</td>\n",
       "    </tr>\n",
       "  </tbody>\n",
       "</table>\n",
       "</div>"
      ],
      "text/plain": [
       "    average_delay  average_expected_number_obs  average_num_obs_difference  \\\n",
       "0       10.048460                      101.908                       5.128   \n",
       "1        9.353755                       54.718                       2.602   \n",
       "2       10.407210                       22.778                       1.068   \n",
       "3       11.075774                       12.110                       0.560   \n",
       "4       10.362333                        6.892                       0.218   \n",
       "5       10.652179                        5.078                       0.204   \n",
       "6       10.154315                        3.746                       0.092   \n",
       "7       10.646266                        2.848                       0.038   \n",
       "8       10.222864                        2.300                       0.010   \n",
       "9        9.919129                        2.154                       0.004   \n",
       "10      10.549967                        2.088                       0.012   \n",
       "\n",
       "    delay_intensity_s          delay_type  frequency_s  frequency_type  \\\n",
       "0                  10  ExponentialDelayer     1.000000  PoissonProcess   \n",
       "1                  10  ExponentialDelayer     0.500000  PoissonProcess   \n",
       "2                  10  ExponentialDelayer     0.200000  PoissonProcess   \n",
       "3                  10  ExponentialDelayer     0.100000  PoissonProcess   \n",
       "4                  10  ExponentialDelayer     0.050000  PoissonProcess   \n",
       "5                  10  ExponentialDelayer     0.033333  PoissonProcess   \n",
       "6                  10  ExponentialDelayer     0.016667  PoissonProcess   \n",
       "7                  10  ExponentialDelayer     0.008333  PoissonProcess   \n",
       "8                  10  ExponentialDelayer     0.003333  PoissonProcess   \n",
       "9                  10  ExponentialDelayer     0.001667  PoissonProcess   \n",
       "10                 10  ExponentialDelayer     0.000833  PoissonProcess   \n",
       "\n",
       "    lookback_s  max_delay  max_num_obs_difference  percent_points_missed  \\\n",
       "0          100  73.647327                      18               5.031990   \n",
       "1          100  57.138335                       9               4.755291   \n",
       "2          100  86.468315                       7               4.688735   \n",
       "3          100  68.091724                       4               4.624277   \n",
       "4          100  75.001726                       4               3.163088   \n",
       "5          100  71.872692                       3               4.017330   \n",
       "6          100  48.682347                       2               2.455953   \n",
       "7          100  64.106221                       2               1.334270   \n",
       "8          100  54.474338                       1               0.434783   \n",
       "9          100  49.316746                       1               0.185701   \n",
       "10         100  56.132949                       1               0.574713   \n",
       "\n",
       "    periodicity_s  rmse_delay  rmse_difference  rmse_no_delay  sensitive  \n",
       "0             1.0    0.356257         0.057341       0.298916      False  \n",
       "1             2.0    0.391032         0.102815       0.288217      False  \n",
       "2             5.0    0.447540         0.161525       0.286015      False  \n",
       "3            10.0    0.618611         0.333831       0.284781      False  \n",
       "4            20.0    0.690124         0.395315       0.294809      False  \n",
       "5            30.0    0.873085         0.573132       0.299953      False  \n",
       "6            60.0    0.678163         0.384418       0.293745      False  \n",
       "7           120.0    0.603532         0.312306       0.291226      False  \n",
       "8           300.0    0.541278         0.243953       0.297325      False  \n",
       "9           600.0    0.493624         0.200000       0.293624      False  \n",
       "10         1200.0    0.457798         0.160322       0.297476      False  "
      ]
     },
     "execution_count": 126,
     "metadata": {},
     "output_type": "execute_result"
    }
   ],
   "source": [
    "frequencies"
   ]
  },
  {
   "cell_type": "markdown",
   "metadata": {},
   "source": [
    "## Interactions"
   ]
  },
  {
   "cell_type": "code",
   "execution_count": 127,
   "metadata": {},
   "outputs": [],
   "source": [
    "import numpy as np\n",
    "import matplotlib.pyplot as plt\n",
    "def make_contour_plot(df,levels,title):\n",
    "    pivoted = df.pivot_table(index=\"periodicity_s\",\n",
    "                             columns=[\"delay_intensity_s\"],\n",
    "                             values=\"rmse_difference\",\n",
    "                             aggfunc='mean')\n",
    "    X = pivoted.columns.values\n",
    "    Y = pivoted.index.values\n",
    "    Z = pivoted.values\n",
    "    x,y = np.meshgrid(X, Y)\n",
    "    mesh = plt.contourf(x, y, Z,levels=levels)\n",
    "    mesh.ax.set_xlabel(\"Delay Intensity (s)\")\n",
    "    mesh.ax.set_ylabel(\"Average Time Between Points (s)\")\n",
    "    mesh.ax.set_title(title)\n",
    "    plt.colorbar(mesh)\n",
    "    return mesh"
   ]
  },
  {
   "cell_type": "code",
   "execution_count": 128,
   "metadata": {},
   "outputs": [
    {
     "data": {
      "text/plain": [
       "<matplotlib.contour.QuadContourSet at 0x11a863eb8>"
      ]
     },
     "execution_count": 128,
     "metadata": {},
     "output_type": "execute_result"
    },
    {
     "data": {
      "image/png": "[encoded data removed]",
      "text/plain": [
       "<Figure size 432x288 with 2 Axes>"
      ]
     },
     "metadata": {
      "needs_background": "light"
     },
     "output_type": "display_data"
    }
   ],
   "source": [
    "interactions = pd.read_csv(make_path(\"interaction.csv\"))\n",
    "make_contour_plot(interactions[interactions[\"sensitive\"] == True],\n",
    "                  levels=[0,1,3,5,10],\n",
    "                  title = \"Error Surface for Sensitive \\n Exponential Process\")"
   ]
  },
  {
   "cell_type": "code",
   "execution_count": 129,
   "metadata": {},
   "outputs": [
    {
     "data": {
      "text/plain": [
       "<matplotlib.contour.QuadContourSet at 0x11a98b3c8>"
      ]
     },
     "execution_count": 129,
     "metadata": {},
     "output_type": "execute_result"
    },
    {
     "data": {
      "image/png": "[encoded data removed]",
      "text/plain": [
       "<Figure size 432x288 with 2 Axes>"
      ]
     },
     "metadata": {
      "needs_background": "light"
     },
     "output_type": "display_data"
    }
   ],
   "source": [
    "make_contour_plot(interactions[interactions[\"sensitive\"] == False],\n",
    "                  levels=[0,1,3,5,10],\n",
    "                  title = \"Error Surface for Insensitive \\n Exponential Process\")"
   ]
  },
  {
   "cell_type": "code",
   "execution_count": 130,
   "metadata": {},
   "outputs": [
    {
     "data": {
      "text/plain": [
       "<matplotlib.contour.QuadContourSet at 0x11ac7f3c8>"
      ]
     },
     "execution_count": 130,
     "metadata": {},
     "output_type": "execute_result"
    },
    {
     "data": {
      "image/png": "[encoded data removed]",
      "text/plain": [
       "<Figure size 432x288 with 2 Axes>"
      ]
     },
     "metadata": {
      "needs_background": "light"
     },
     "output_type": "display_data"
    }
   ],
   "source": [
    "interaction_uniform = pd.read_csv(make_path(\"interaction_uniform.csv\"))\n",
    "make_contour_plot(interaction_uniform[interaction_uniform[\"sensitive\"] == True],\n",
    "                  levels=[0,1,3,5,10],\n",
    "                  title = \"Error Surface for Sensitive \\n Uniform Process\")"
   ]
  },
  {
   "cell_type": "code",
   "execution_count": 132,
   "metadata": {},
   "outputs": [
    {
     "data": {
      "text/plain": [
       "<matplotlib.contour.QuadContourSet at 0x11ab767f0>"
      ]
     },
     "execution_count": 132,
     "metadata": {},
     "output_type": "execute_result"
    },
    {
     "data": {
      "image/png": "[encoded data removed]",
      "text/plain": [
       "<Figure size 432x288 with 2 Axes>"
      ]
     },
     "metadata": {
      "needs_background": "light"
     },
     "output_type": "display_data"
    }
   ],
   "source": [
    "make_contour_plot(interaction_uniform[interaction_uniform[\"sensitive\"] == False],\n",
    "                  levels=[0,1,3,5,10],\n",
    "                  title = \"Error Surface for Insensitive \\n Uniform Process\")"
   ]
  },
  {
   "cell_type": "code",
   "execution_count": 133,
   "metadata": {},
   "outputs": [],
   "source": [
    "freq_vs_lookback = pd.read_csv(make_path(\"freq_vs_lookback.csv\"))\n",
    "freq_vs_lookback[\"freq*lookback\"] = freq_vs_lookback[\"frequency_s\"]* freq_vs_lookback[\"lookback_s\"]"
   ]
  },
  {
   "cell_type": "code",
   "execution_count": 134,
   "metadata": {},
   "outputs": [
    {
     "data": {
      "text/plain": [
       "<matplotlib.axes._subplots.AxesSubplot at 0x11a9c6f60>"
      ]
     },
     "execution_count": 134,
     "metadata": {},
     "output_type": "execute_result"
    },
    {
     "data": {
      "image/png": "[encoded data removed]",
      "text/plain": [
       "<Figure size 432x288 with 1 Axes>"
      ]
     },
     "metadata": {
      "needs_background": "light"
     },
     "output_type": "display_data"
    }
   ],
   "source": [
    "freq_vs_lookback[freq_vs_lookback[\"delay_intensity_s\"]==10].plot.scatter(x = \"average_expected_number_obs\",\n",
    "                              y = \"rmse_difference\",\n",
    "                              logx = True)"
   ]
  },
  {
   "cell_type": "code",
   "execution_count": 135,
   "metadata": {},
   "outputs": [
    {
     "data": {
      "text/plain": [
       "<matplotlib.axes._subplots.AxesSubplot at 0x11ae8a3c8>"
      ]
     },
     "execution_count": 135,
     "metadata": {},
     "output_type": "execute_result"
    },
    {
     "data": {
      "image/png": "[encoded data removed]",
      "text/plain": [
       "<Figure size 432x288 with 1 Axes>"
      ]
     },
     "metadata": {
      "needs_background": "light"
     },
     "output_type": "display_data"
    }
   ],
   "source": [
    "freq_vs_lookback[freq_vs_lookback[\"delay_intensity_s\"]==1].plot.scatter(x = \"average_expected_number_obs\",\n",
    "                              y = \"rmse_difference\",\n",
    "                              logx = True)"
   ]
  },
  {
   "cell_type": "code",
   "execution_count": 150,
   "metadata": {},
   "outputs": [
    {
     "data": {
      "image/png": "[encoded data removed]",
      "text/plain": [
       "<Figure size 432x288 with 2 Axes>"
      ]
     },
     "metadata": {
      "needs_background": "light"
     },
     "output_type": "display_data"
    }
   ],
   "source": [
    "ax =freq_vs_lookback[freq_vs_lookback[\"delay_intensity_s\"]==100].\\\n",
    "plot.scatter(x = \"average_expected_number_obs\",\n",
    "             y = \"average_num_obs_difference\",\n",
    "             c = \"rmse_difference\",\n",
    "             colormap = \"viridis\",logx=True)\n"
   ]
  },
  {
   "cell_type": "code",
   "execution_count": 151,
   "metadata": {},
   "outputs": [
    {
     "data": {
      "text/plain": [
       "Text(0.5, 6.700000000000003, 'Test')"
      ]
     },
     "execution_count": 151,
     "metadata": {},
     "output_type": "execute_result"
    }
   ],
   "source": [
    "ax.set_xlabel(\"Test\")"
   ]
  },
  {
   "cell_type": "code",
   "execution_count": 153,
   "metadata": {},
   "outputs": [
    {
     "ename": "SyntaxError",
     "evalue": "Missing parentheses in call to 'print'. Did you mean print(ax)? (<ipython-input-153-13a7aa5c8f75>, line 1)",
     "output_type": "error",
     "traceback": [
      "\u001b[0;36m  File \u001b[0;32m\"<ipython-input-153-13a7aa5c8f75>\"\u001b[0;36m, line \u001b[0;32m1\u001b[0m\n\u001b[0;31m    print ax\u001b[0m\n\u001b[0m           ^\u001b[0m\n\u001b[0;31mSyntaxError\u001b[0m\u001b[0;31m:\u001b[0m Missing parentheses in call to 'print'. Did you mean print(ax)?\n"
     ]
    }
   ],
   "source": [
    "print ax"
   ]
  }
 ],
 "metadata": {
  "kernelspec": {
   "display_name": "Python 3",
   "language": "python",
   "name": "python3"
  },
  "language_info": {
   "codemirror_mode": {
    "name": "ipython",
    "version": 3
   },
   "file_extension": ".py",
   "mimetype": "text/x-python",
   "name": "python",
   "nbconvert_exporter": "python",
   "pygments_lexer": "ipython3",
   "version": "3.7.0"
  }
 },
 "nbformat": 4,
 "nbformat_minor": 2
}
